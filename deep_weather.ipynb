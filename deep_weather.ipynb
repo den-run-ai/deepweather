{
  "nbformat": 4,
  "nbformat_minor": 0,
  "metadata": {
    "colab": {
      "name": "deep_weather.ipynb",
      "version": "0.3.2",
      "provenance": [],
      "collapsed_sections": []
    },
    "kernelspec": {
      "display_name": "Python 3",
      "language": "python",
      "name": "python3"
    },
    "accelerator": "GPU"
  },
  "cells": [
    {
      "cell_type": "markdown",
      "metadata": {
        "id": "view-in-github",
        "colab_type": "text"
      },
      "source": [
        "[View in Colaboratory](https://colab.research.google.com/github/denfromufa/deepweather/blob/master/deep_weather.ipynb)"
      ]
    },
    {
      "metadata": {
        "id": "f2mLHDbBrC8v",
        "colab_type": "text"
      },
      "cell_type": "markdown",
      "source": [
        "Weather Prediction with Deep Learning (30 minutes)\n",
        "Denis Akhiyarov\n",
        "    * Senior Consultant at Wood\n",
        "    * Python.NET (Python for .NET) core developer\n",
        "    * Python, VBA, C#, Mathematica, Matlab\n",
        "    \n",
        "https://notebooks.azure.com/denfromufa/libraries/pmlc\n"
      ]
    },
    {
      "metadata": {
        "id": "klBoW0yGrC8z",
        "colab_type": "text"
      },
      "cell_type": "markdown",
      "source": [
        "\n",
        "  <img src=\"http://pandas.pydata.org/_static/pandas_logo.png\" alt=\"Drawing\" style=\"height: 50px; width: 200px;\"/>\n",
        "  <img src=\"http://www.numpy.org/_static/numpy_logo.png\" alt=\"Drawing\" style=\"height: 50px; width: 150px;\"/>\n",
        "  <img src=\"http://jupyter.org/assets/main-logo.svg\" alt=\"Drawing\" style=\"height: 50px; width: 300px;\"/>\n",
        "  <img src=\"https://matplotlib.org/_static/logo2.svg\" alt=\"Drawing\" style=\"height: 50px; width: 150px;\"/>\n",
        "  <img src=\"http://seaborn.pydata.org/_images/joint_kde.png\" alt=\"Drawing\" style=\"height: 50px; width: 50px;\"/>\n",
        "  <img src=\"http://www.sympy.org/static/images/logo.png\" alt=\"Drawing\" style=\"height: 50px; width: 100px;\"/>\n",
        "  \n",
        "  <img src=\"https://camo.githubusercontent.com/ee91ac3c9f5ad840ebf70b54284498fe0e6ddb92/68747470733a2f2f7777772e74656e736f72666c6f772e6f72672f696d616765732f74665f6c6f676f5f7472616e73702e706e67\" alt=\"Drawing\" style=\"height: 50px; width: 100px;\"/>\n",
        "  <img src=\"https://camo.githubusercontent.com/0d08dc4f9466d347e8d28a951ea51e3430c6f92c/68747470733a2f2f73332e616d617a6f6e6177732e636f6d2f6b657261732e696f2f696d672f6b657261732d6c6f676f2d323031382d6c617267652d313230302e706e67\" alt=Drawing style=\"height:50px; width: 100px;\"/>\n",
        "  "
      ]
    },
    {
      "metadata": {
        "id": "rWRy8e9OrC81",
        "colab_type": "code",
        "colab": {}
      },
      "cell_type": "code",
      "source": [
        "import pandas as pd\n",
        "import numpy as np\n",
        "from numpy import exp\n",
        "from IPython.display import HTML, Latex, Math, display\n",
        "import matplotlib.pyplot as plt\n",
        "import matplotlib\n",
        "import seaborn as sns\n",
        "from sympy.printing import latex\n",
        "from sympy.core.sympify import sympify\n",
        "%matplotlib inline\n",
        "pd.options.display.max_columns=50\n",
        "pd.options.display.max_colwidth=100\n",
        "matplotlib.rcParams['savefig.dpi'] = 300\n",
        "matplotlib.rcParams['figure.dpi'] = 300\n",
        "matplotlib.rcParams['figure.figsize'] = (3, 2)\n",
        "fontsize=3\n",
        "matplotlib.rcParams['figure.titlesize'] = fontsize\n",
        "matplotlib.rcParams['axes.labelsize'] = fontsize\n",
        "matplotlib.rcParams['font.size'] = fontsize\n",
        "matplotlib.rcParams['axes.titlesize'] = fontsize\n",
        "matplotlib.rcParams['legend.fontsize'] = fontsize\n",
        "matplotlib.rcParams['xtick.labelsize'] = fontsize\n",
        "matplotlib.rcParams['ytick.labelsize'] = fontsize\n",
        "matplotlib.rcParams['lines.markersize'] = 2"
      ],
      "execution_count": 0,
      "outputs": []
    },
    {
      "metadata": {
        "id": "MWCjFEitrC88",
        "colab_type": "text"
      },
      "cell_type": "markdown",
      "source": [
        "Historic data of weather in Houston requested and retrieved from Department of Commerce > NOAA > NESDIS > NCEI\n",
        "\n",
        "https://www.ncdc.noaa.gov/"
      ]
    },
    {
      "metadata": {
        "id": "aO6HehcFrC88",
        "colab_type": "text"
      },
      "cell_type": "markdown",
      "source": [
        "Last read the head of the table and look at the data using pandas"
      ]
    },
    {
      "metadata": {
        "id": "KfKspF_XrC89",
        "colab_type": "code",
        "colab": {
          "base_uri": "https://localhost:8080/",
          "height": 222
        },
        "outputId": "f2088334-7569-4442-fe6b-93afac0bb953"
      },
      "cell_type": "code",
      "source": [
        "dfhtown=pd.read_csv(\"https://raw.githubusercontent.com/denfromufa/deepweather/master/9693687323818dat.txt\", delim_whitespace=True)\n",
        "dfhtown.head()"
      ],
      "execution_count": 2,
      "outputs": [
        {
          "output_type": "execute_result",
          "data": {
            "text/html": [
              "<div>\n",
              "<style scoped>\n",
              "    .dataframe tbody tr th:only-of-type {\n",
              "        vertical-align: middle;\n",
              "    }\n",
              "\n",
              "    .dataframe tbody tr th {\n",
              "        vertical-align: top;\n",
              "    }\n",
              "\n",
              "    .dataframe thead th {\n",
              "        text-align: right;\n",
              "    }\n",
              "</style>\n",
              "<table border=\"1\" class=\"dataframe\">\n",
              "  <thead>\n",
              "    <tr style=\"text-align: right;\">\n",
              "      <th></th>\n",
              "      <th>USAF</th>\n",
              "      <th>WBAN</th>\n",
              "      <th>YR--MODAHRMN</th>\n",
              "      <th>DIR</th>\n",
              "      <th>SPD</th>\n",
              "      <th>GUS</th>\n",
              "      <th>CLG</th>\n",
              "      <th>SKC</th>\n",
              "      <th>L</th>\n",
              "      <th>M</th>\n",
              "      <th>H</th>\n",
              "      <th>VSB</th>\n",
              "      <th>MW</th>\n",
              "      <th>MW.1</th>\n",
              "      <th>MW.2</th>\n",
              "      <th>MW.3</th>\n",
              "      <th>AW</th>\n",
              "      <th>AW.1</th>\n",
              "      <th>AW.2</th>\n",
              "      <th>AW.3</th>\n",
              "      <th>W</th>\n",
              "      <th>TEMP</th>\n",
              "      <th>DEWP</th>\n",
              "      <th>SLP</th>\n",
              "      <th>ALT</th>\n",
              "      <th>STP</th>\n",
              "      <th>MAX</th>\n",
              "      <th>MIN</th>\n",
              "      <th>PCP01</th>\n",
              "      <th>PCP06</th>\n",
              "      <th>PCP24</th>\n",
              "      <th>PCPXX</th>\n",
              "      <th>SD</th>\n",
              "    </tr>\n",
              "  </thead>\n",
              "  <tbody>\n",
              "    <tr>\n",
              "      <th>0</th>\n",
              "      <td>720617</td>\n",
              "      <td>208</td>\n",
              "      <td>201604010015</td>\n",
              "      <td>***</td>\n",
              "      <td>0</td>\n",
              "      <td>***</td>\n",
              "      <td>722</td>\n",
              "      <td>CLR</td>\n",
              "      <td>*</td>\n",
              "      <td>*</td>\n",
              "      <td>*</td>\n",
              "      <td>10.0</td>\n",
              "      <td>**</td>\n",
              "      <td>**</td>\n",
              "      <td>**</td>\n",
              "      <td>**</td>\n",
              "      <td>**</td>\n",
              "      <td>**</td>\n",
              "      <td>**</td>\n",
              "      <td>**</td>\n",
              "      <td>*</td>\n",
              "      <td>79</td>\n",
              "      <td>66</td>\n",
              "      <td>******</td>\n",
              "      <td>29.67</td>\n",
              "      <td>******</td>\n",
              "      <td>***</td>\n",
              "      <td>***</td>\n",
              "      <td>*****</td>\n",
              "      <td>*****</td>\n",
              "      <td>*****</td>\n",
              "      <td>*****</td>\n",
              "      <td>**</td>\n",
              "    </tr>\n",
              "    <tr>\n",
              "      <th>1</th>\n",
              "      <td>720617</td>\n",
              "      <td>208</td>\n",
              "      <td>201604010035</td>\n",
              "      <td>330</td>\n",
              "      <td>6</td>\n",
              "      <td>***</td>\n",
              "      <td>722</td>\n",
              "      <td>CLR</td>\n",
              "      <td>*</td>\n",
              "      <td>*</td>\n",
              "      <td>*</td>\n",
              "      <td>9.1</td>\n",
              "      <td>**</td>\n",
              "      <td>**</td>\n",
              "      <td>**</td>\n",
              "      <td>**</td>\n",
              "      <td>**</td>\n",
              "      <td>**</td>\n",
              "      <td>**</td>\n",
              "      <td>**</td>\n",
              "      <td>*</td>\n",
              "      <td>75</td>\n",
              "      <td>66</td>\n",
              "      <td>******</td>\n",
              "      <td>29.66</td>\n",
              "      <td>******</td>\n",
              "      <td>***</td>\n",
              "      <td>***</td>\n",
              "      <td>*****</td>\n",
              "      <td>*****</td>\n",
              "      <td>*****</td>\n",
              "      <td>*****</td>\n",
              "      <td>**</td>\n",
              "    </tr>\n",
              "    <tr>\n",
              "      <th>2</th>\n",
              "      <td>720617</td>\n",
              "      <td>208</td>\n",
              "      <td>201604010055</td>\n",
              "      <td>330</td>\n",
              "      <td>3</td>\n",
              "      <td>***</td>\n",
              "      <td>722</td>\n",
              "      <td>CLR</td>\n",
              "      <td>*</td>\n",
              "      <td>*</td>\n",
              "      <td>*</td>\n",
              "      <td>10.0</td>\n",
              "      <td>**</td>\n",
              "      <td>**</td>\n",
              "      <td>**</td>\n",
              "      <td>**</td>\n",
              "      <td>**</td>\n",
              "      <td>**</td>\n",
              "      <td>**</td>\n",
              "      <td>**</td>\n",
              "      <td>*</td>\n",
              "      <td>73</td>\n",
              "      <td>66</td>\n",
              "      <td>******</td>\n",
              "      <td>29.67</td>\n",
              "      <td>******</td>\n",
              "      <td>***</td>\n",
              "      <td>***</td>\n",
              "      <td>*****</td>\n",
              "      <td>*****</td>\n",
              "      <td>*****</td>\n",
              "      <td>*****</td>\n",
              "      <td>**</td>\n",
              "    </tr>\n",
              "    <tr>\n",
              "      <th>3</th>\n",
              "      <td>720617</td>\n",
              "      <td>208</td>\n",
              "      <td>201604010115</td>\n",
              "      <td>330</td>\n",
              "      <td>6</td>\n",
              "      <td>***</td>\n",
              "      <td>722</td>\n",
              "      <td>CLR</td>\n",
              "      <td>*</td>\n",
              "      <td>*</td>\n",
              "      <td>*</td>\n",
              "      <td>10.0</td>\n",
              "      <td>**</td>\n",
              "      <td>**</td>\n",
              "      <td>**</td>\n",
              "      <td>**</td>\n",
              "      <td>**</td>\n",
              "      <td>**</td>\n",
              "      <td>**</td>\n",
              "      <td>**</td>\n",
              "      <td>*</td>\n",
              "      <td>73</td>\n",
              "      <td>66</td>\n",
              "      <td>******</td>\n",
              "      <td>29.68</td>\n",
              "      <td>******</td>\n",
              "      <td>***</td>\n",
              "      <td>***</td>\n",
              "      <td>*****</td>\n",
              "      <td>*****</td>\n",
              "      <td>*****</td>\n",
              "      <td>*****</td>\n",
              "      <td>**</td>\n",
              "    </tr>\n",
              "    <tr>\n",
              "      <th>4</th>\n",
              "      <td>720617</td>\n",
              "      <td>208</td>\n",
              "      <td>201604010135</td>\n",
              "      <td>340</td>\n",
              "      <td>7</td>\n",
              "      <td>***</td>\n",
              "      <td>722</td>\n",
              "      <td>CLR</td>\n",
              "      <td>*</td>\n",
              "      <td>*</td>\n",
              "      <td>*</td>\n",
              "      <td>10.0</td>\n",
              "      <td>**</td>\n",
              "      <td>**</td>\n",
              "      <td>**</td>\n",
              "      <td>**</td>\n",
              "      <td>**</td>\n",
              "      <td>**</td>\n",
              "      <td>**</td>\n",
              "      <td>**</td>\n",
              "      <td>*</td>\n",
              "      <td>72</td>\n",
              "      <td>64</td>\n",
              "      <td>******</td>\n",
              "      <td>29.70</td>\n",
              "      <td>******</td>\n",
              "      <td>***</td>\n",
              "      <td>***</td>\n",
              "      <td>*****</td>\n",
              "      <td>*****</td>\n",
              "      <td>*****</td>\n",
              "      <td>*****</td>\n",
              "      <td>**</td>\n",
              "    </tr>\n",
              "  </tbody>\n",
              "</table>\n",
              "</div>"
            ],
            "text/plain": [
              "     USAF  WBAN  YR--MODAHRMN  DIR SPD  GUS  CLG  SKC  L  M  H   VSB  MW MW.1  \\\n",
              "0  720617   208  201604010015  ***   0  ***  722  CLR  *  *  *  10.0  **   **   \n",
              "1  720617   208  201604010035  330   6  ***  722  CLR  *  *  *   9.1  **   **   \n",
              "2  720617   208  201604010055  330   3  ***  722  CLR  *  *  *  10.0  **   **   \n",
              "3  720617   208  201604010115  330   6  ***  722  CLR  *  *  *  10.0  **   **   \n",
              "4  720617   208  201604010135  340   7  ***  722  CLR  *  *  *  10.0  **   **   \n",
              "\n",
              "  MW.2 MW.3  AW AW.1 AW.2 AW.3  W TEMP DEWP     SLP    ALT     STP  MAX  MIN  \\\n",
              "0   **   **  **   **   **   **  *   79   66  ******  29.67  ******  ***  ***   \n",
              "1   **   **  **   **   **   **  *   75   66  ******  29.66  ******  ***  ***   \n",
              "2   **   **  **   **   **   **  *   73   66  ******  29.67  ******  ***  ***   \n",
              "3   **   **  **   **   **   **  *   73   66  ******  29.68  ******  ***  ***   \n",
              "4   **   **  **   **   **   **  *   72   64  ******  29.70  ******  ***  ***   \n",
              "\n",
              "   PCP01  PCP06  PCP24  PCPXX  SD  \n",
              "0  *****  *****  *****  *****  **  \n",
              "1  *****  *****  *****  *****  **  \n",
              "2  *****  *****  *****  *****  **  \n",
              "3  *****  *****  *****  *****  **  \n",
              "4  *****  *****  *****  *****  **  "
            ]
          },
          "metadata": {
            "tags": []
          },
          "execution_count": 2
        }
      ]
    },
    {
      "metadata": {
        "id": "Kpv7aZ-drC9H",
        "colab_type": "text"
      },
      "cell_type": "markdown",
      "source": [
        "The data is messy, the names of columns not clear, so let's look at html version. Again using pandas!"
      ]
    },
    {
      "metadata": {
        "id": "qixn7in5zD0m",
        "colab_type": "code",
        "colab": {
          "base_uri": "https://localhost:8080/",
          "height": 104
        },
        "outputId": "879ca64e-23a7-405a-b9b9-5471578bac92"
      },
      "cell_type": "code",
      "source": [
        "import sys\n",
        "!pip install lxml"
      ],
      "execution_count": 3,
      "outputs": [
        {
          "output_type": "stream",
          "text": [
            "Collecting lxml\n",
            "  Downloading lxml-4.2.1-cp36-cp36m-manylinux1_x86_64.whl (5.6MB)\n",
            "\u001b[K    100% |████████████████████████████████| 5.7MB 241kB/s \n",
            "\u001b[?25hInstalling collected packages: lxml\n",
            "Successfully installed lxml-4.2.1\n"
          ],
          "name": "stdout"
        }
      ]
    },
    {
      "metadata": {
        "id": "g0w6EEU0rC9I",
        "colab_type": "code",
        "colab": {}
      },
      "cell_type": "code",
      "source": [
        "dfheader=pd.read_html(\"https://raw.githubusercontent.com/denfromufa/deepweather/master/72061700208-2016-04_9693687323818dat.html\")"
      ],
      "execution_count": 0,
      "outputs": []
    },
    {
      "metadata": {
        "id": "TlJ3yTgnrC9N",
        "colab_type": "code",
        "colab": {
          "base_uri": "https://localhost:8080/",
          "height": 48
        },
        "outputId": "daf4c70d-9674-41a3-b816-397c1a9bc550"
      },
      "cell_type": "code",
      "source": [
        "def pd2html(df, header=False, index=False):\n",
        "    return HTML(df.to_html(index=False, header=False))\n",
        "pd2html(dfheader[0])"
      ],
      "execution_count": 5,
      "outputs": [
        {
          "output_type": "execute_result",
          "data": {
            "text/html": [
              "<table border=\"1\" class=\"dataframe\">\n",
              "  <tbody>\n",
              "    <tr>\n",
              "      <td>AWS ID 720617</td>\n",
              "      <td>WBAN ID 00208</td>\n",
              "      <td>Name HOUSTON EXECUTIVE AIRPORT</td>\n",
              "      <td>Country UNITED STATES</td>\n",
              "      <td>State TEXAS</td>\n",
              "      <td>Latitude +29.800</td>\n",
              "      <td>Longitude -095.900</td>\n",
              "      <td>Elevation +0051.2 (meters)</td>\n",
              "    </tr>\n",
              "  </tbody>\n",
              "</table>"
            ],
            "text/plain": [
              "<IPython.core.display.HTML object>"
            ]
          },
          "metadata": {
            "tags": []
          },
          "execution_count": 5
        }
      ]
    },
    {
      "metadata": {
        "id": "QZouBM2BrC9U",
        "colab_type": "code",
        "colab": {
          "base_uri": "https://localhost:8080/",
          "height": 116
        },
        "outputId": "4b3b28de-d0f6-42b8-f087-465c772179b0"
      },
      "cell_type": "code",
      "source": [
        "pd2html(dfheader[1][:2])"
      ],
      "execution_count": 6,
      "outputs": [
        {
          "output_type": "execute_result",
          "data": {
            "text/html": [
              "<table border=\"1\" class=\"dataframe\">\n",
              "  <tbody>\n",
              "    <tr>\n",
              "      <td>USAF</td>\n",
              "      <td>WBAN</td>\n",
              "      <td>YR--MODAHRMN</td>\n",
              "      <td>DIR</td>\n",
              "      <td>SPD</td>\n",
              "      <td>GUS</td>\n",
              "      <td>CLG</td>\n",
              "      <td>SKC</td>\n",
              "      <td>L</td>\n",
              "      <td>M</td>\n",
              "      <td>H</td>\n",
              "      <td>VSB</td>\n",
              "      <td>MW</td>\n",
              "      <td>MW</td>\n",
              "      <td>MW</td>\n",
              "      <td>MW</td>\n",
              "      <td>AW</td>\n",
              "      <td>AW</td>\n",
              "      <td>AW</td>\n",
              "      <td>AW</td>\n",
              "      <td>W</td>\n",
              "      <td>TEMP</td>\n",
              "      <td>DEWP</td>\n",
              "      <td>SLP</td>\n",
              "      <td>ALT</td>\n",
              "      <td>STP</td>\n",
              "      <td>MAX</td>\n",
              "      <td>MIN</td>\n",
              "      <td>PCP01</td>\n",
              "      <td>PCP06</td>\n",
              "      <td>PCP24</td>\n",
              "      <td>PCPXX</td>\n",
              "      <td>SD</td>\n",
              "    </tr>\n",
              "    <tr>\n",
              "      <td>NaN</td>\n",
              "      <td>NaN</td>\n",
              "      <td>GMT</td>\n",
              "      <td>NaN</td>\n",
              "      <td>MPH</td>\n",
              "      <td>MPH</td>\n",
              "      <td>NaN</td>\n",
              "      <td>NaN</td>\n",
              "      <td>NaN</td>\n",
              "      <td>NaN</td>\n",
              "      <td>NaN</td>\n",
              "      <td>Miles</td>\n",
              "      <td>NaN</td>\n",
              "      <td>NaN</td>\n",
              "      <td>NaN</td>\n",
              "      <td>NaN</td>\n",
              "      <td>NaN</td>\n",
              "      <td>NaN</td>\n",
              "      <td>NaN</td>\n",
              "      <td>NaN</td>\n",
              "      <td>NaN</td>\n",
              "      <td>F</td>\n",
              "      <td>F</td>\n",
              "      <td>Mb</td>\n",
              "      <td>inches</td>\n",
              "      <td>Mb</td>\n",
              "      <td>F</td>\n",
              "      <td>F</td>\n",
              "      <td>inches</td>\n",
              "      <td>inches</td>\n",
              "      <td>inches</td>\n",
              "      <td>inches</td>\n",
              "      <td>inches</td>\n",
              "    </tr>\n",
              "  </tbody>\n",
              "</table>"
            ],
            "text/plain": [
              "<IPython.core.display.HTML object>"
            ]
          },
          "metadata": {
            "tags": []
          },
          "execution_count": 6
        }
      ]
    },
    {
      "metadata": {
        "id": "HbGs8zYUrC9b",
        "colab_type": "text"
      },
      "cell_type": "markdown",
      "source": [
        "Let's set the index of dataframe (table) to dates"
      ]
    },
    {
      "metadata": {
        "id": "OnFYVrRArC9c",
        "colab_type": "code",
        "colab": {
          "base_uri": "https://localhost:8080/",
          "height": 191
        },
        "outputId": "b561646e-b806-4b06-b487-9d1ab65cf643"
      },
      "cell_type": "code",
      "source": [
        "dfhtown.set_index(dfhtown.columns[2], inplace=True)\n",
        "dfhtown.head(3)"
      ],
      "execution_count": 7,
      "outputs": [
        {
          "output_type": "execute_result",
          "data": {
            "text/html": [
              "<div>\n",
              "<style scoped>\n",
              "    .dataframe tbody tr th:only-of-type {\n",
              "        vertical-align: middle;\n",
              "    }\n",
              "\n",
              "    .dataframe tbody tr th {\n",
              "        vertical-align: top;\n",
              "    }\n",
              "\n",
              "    .dataframe thead th {\n",
              "        text-align: right;\n",
              "    }\n",
              "</style>\n",
              "<table border=\"1\" class=\"dataframe\">\n",
              "  <thead>\n",
              "    <tr style=\"text-align: right;\">\n",
              "      <th></th>\n",
              "      <th>USAF</th>\n",
              "      <th>WBAN</th>\n",
              "      <th>DIR</th>\n",
              "      <th>SPD</th>\n",
              "      <th>GUS</th>\n",
              "      <th>CLG</th>\n",
              "      <th>SKC</th>\n",
              "      <th>L</th>\n",
              "      <th>M</th>\n",
              "      <th>H</th>\n",
              "      <th>VSB</th>\n",
              "      <th>MW</th>\n",
              "      <th>MW.1</th>\n",
              "      <th>MW.2</th>\n",
              "      <th>MW.3</th>\n",
              "      <th>AW</th>\n",
              "      <th>AW.1</th>\n",
              "      <th>AW.2</th>\n",
              "      <th>AW.3</th>\n",
              "      <th>W</th>\n",
              "      <th>TEMP</th>\n",
              "      <th>DEWP</th>\n",
              "      <th>SLP</th>\n",
              "      <th>ALT</th>\n",
              "      <th>STP</th>\n",
              "      <th>MAX</th>\n",
              "      <th>MIN</th>\n",
              "      <th>PCP01</th>\n",
              "      <th>PCP06</th>\n",
              "      <th>PCP24</th>\n",
              "      <th>PCPXX</th>\n",
              "      <th>SD</th>\n",
              "    </tr>\n",
              "    <tr>\n",
              "      <th>YR--MODAHRMN</th>\n",
              "      <th></th>\n",
              "      <th></th>\n",
              "      <th></th>\n",
              "      <th></th>\n",
              "      <th></th>\n",
              "      <th></th>\n",
              "      <th></th>\n",
              "      <th></th>\n",
              "      <th></th>\n",
              "      <th></th>\n",
              "      <th></th>\n",
              "      <th></th>\n",
              "      <th></th>\n",
              "      <th></th>\n",
              "      <th></th>\n",
              "      <th></th>\n",
              "      <th></th>\n",
              "      <th></th>\n",
              "      <th></th>\n",
              "      <th></th>\n",
              "      <th></th>\n",
              "      <th></th>\n",
              "      <th></th>\n",
              "      <th></th>\n",
              "      <th></th>\n",
              "      <th></th>\n",
              "      <th></th>\n",
              "      <th></th>\n",
              "      <th></th>\n",
              "      <th></th>\n",
              "      <th></th>\n",
              "      <th></th>\n",
              "    </tr>\n",
              "  </thead>\n",
              "  <tbody>\n",
              "    <tr>\n",
              "      <th>201604010015</th>\n",
              "      <td>720617</td>\n",
              "      <td>208</td>\n",
              "      <td>***</td>\n",
              "      <td>0</td>\n",
              "      <td>***</td>\n",
              "      <td>722</td>\n",
              "      <td>CLR</td>\n",
              "      <td>*</td>\n",
              "      <td>*</td>\n",
              "      <td>*</td>\n",
              "      <td>10.0</td>\n",
              "      <td>**</td>\n",
              "      <td>**</td>\n",
              "      <td>**</td>\n",
              "      <td>**</td>\n",
              "      <td>**</td>\n",
              "      <td>**</td>\n",
              "      <td>**</td>\n",
              "      <td>**</td>\n",
              "      <td>*</td>\n",
              "      <td>79</td>\n",
              "      <td>66</td>\n",
              "      <td>******</td>\n",
              "      <td>29.67</td>\n",
              "      <td>******</td>\n",
              "      <td>***</td>\n",
              "      <td>***</td>\n",
              "      <td>*****</td>\n",
              "      <td>*****</td>\n",
              "      <td>*****</td>\n",
              "      <td>*****</td>\n",
              "      <td>**</td>\n",
              "    </tr>\n",
              "    <tr>\n",
              "      <th>201604010035</th>\n",
              "      <td>720617</td>\n",
              "      <td>208</td>\n",
              "      <td>330</td>\n",
              "      <td>6</td>\n",
              "      <td>***</td>\n",
              "      <td>722</td>\n",
              "      <td>CLR</td>\n",
              "      <td>*</td>\n",
              "      <td>*</td>\n",
              "      <td>*</td>\n",
              "      <td>9.1</td>\n",
              "      <td>**</td>\n",
              "      <td>**</td>\n",
              "      <td>**</td>\n",
              "      <td>**</td>\n",
              "      <td>**</td>\n",
              "      <td>**</td>\n",
              "      <td>**</td>\n",
              "      <td>**</td>\n",
              "      <td>*</td>\n",
              "      <td>75</td>\n",
              "      <td>66</td>\n",
              "      <td>******</td>\n",
              "      <td>29.66</td>\n",
              "      <td>******</td>\n",
              "      <td>***</td>\n",
              "      <td>***</td>\n",
              "      <td>*****</td>\n",
              "      <td>*****</td>\n",
              "      <td>*****</td>\n",
              "      <td>*****</td>\n",
              "      <td>**</td>\n",
              "    </tr>\n",
              "    <tr>\n",
              "      <th>201604010055</th>\n",
              "      <td>720617</td>\n",
              "      <td>208</td>\n",
              "      <td>330</td>\n",
              "      <td>3</td>\n",
              "      <td>***</td>\n",
              "      <td>722</td>\n",
              "      <td>CLR</td>\n",
              "      <td>*</td>\n",
              "      <td>*</td>\n",
              "      <td>*</td>\n",
              "      <td>10.0</td>\n",
              "      <td>**</td>\n",
              "      <td>**</td>\n",
              "      <td>**</td>\n",
              "      <td>**</td>\n",
              "      <td>**</td>\n",
              "      <td>**</td>\n",
              "      <td>**</td>\n",
              "      <td>**</td>\n",
              "      <td>*</td>\n",
              "      <td>73</td>\n",
              "      <td>66</td>\n",
              "      <td>******</td>\n",
              "      <td>29.67</td>\n",
              "      <td>******</td>\n",
              "      <td>***</td>\n",
              "      <td>***</td>\n",
              "      <td>*****</td>\n",
              "      <td>*****</td>\n",
              "      <td>*****</td>\n",
              "      <td>*****</td>\n",
              "      <td>**</td>\n",
              "    </tr>\n",
              "  </tbody>\n",
              "</table>\n",
              "</div>"
            ],
            "text/plain": [
              "                USAF  WBAN  DIR SPD  GUS  CLG  SKC  L  M  H   VSB  MW MW.1  \\\n",
              "YR--MODAHRMN                                                                 \n",
              "201604010015  720617   208  ***   0  ***  722  CLR  *  *  *  10.0  **   **   \n",
              "201604010035  720617   208  330   6  ***  722  CLR  *  *  *   9.1  **   **   \n",
              "201604010055  720617   208  330   3  ***  722  CLR  *  *  *  10.0  **   **   \n",
              "\n",
              "             MW.2 MW.3  AW AW.1 AW.2 AW.3  W TEMP DEWP     SLP    ALT     STP  \\\n",
              "YR--MODAHRMN                                                                    \n",
              "201604010015   **   **  **   **   **   **  *   79   66  ******  29.67  ******   \n",
              "201604010035   **   **  **   **   **   **  *   75   66  ******  29.66  ******   \n",
              "201604010055   **   **  **   **   **   **  *   73   66  ******  29.67  ******   \n",
              "\n",
              "              MAX  MIN  PCP01  PCP06  PCP24  PCPXX  SD  \n",
              "YR--MODAHRMN                                            \n",
              "201604010015  ***  ***  *****  *****  *****  *****  **  \n",
              "201604010035  ***  ***  *****  *****  *****  *****  **  \n",
              "201604010055  ***  ***  *****  *****  *****  *****  **  "
            ]
          },
          "metadata": {
            "tags": []
          },
          "execution_count": 7
        }
      ]
    },
    {
      "metadata": {
        "id": "qEqJ_M4SrC9j",
        "colab_type": "code",
        "colab": {
          "base_uri": "https://localhost:8080/",
          "height": 232
        },
        "outputId": "c0f0aeb8-6345-4e49-8e6f-09adfa8ad1d4"
      },
      "cell_type": "code",
      "source": [
        "dfhtown.index=pd.to_datetime(dfhtown.index, format=\"%Y%m%d%H%M\")\n",
        "dfhtown.index.name='datetime'\n",
        "dfhtown.replace(to_replace='\\*+', value=np.nan, regex=True, inplace=True)\n",
        "dfhtown.dropna(axis=1, inplace=True, how='all')\n",
        "dfhtown.head()"
      ],
      "execution_count": 8,
      "outputs": [
        {
          "output_type": "execute_result",
          "data": {
            "text/html": [
              "<div>\n",
              "<style scoped>\n",
              "    .dataframe tbody tr th:only-of-type {\n",
              "        vertical-align: middle;\n",
              "    }\n",
              "\n",
              "    .dataframe tbody tr th {\n",
              "        vertical-align: top;\n",
              "    }\n",
              "\n",
              "    .dataframe thead th {\n",
              "        text-align: right;\n",
              "    }\n",
              "</style>\n",
              "<table border=\"1\" class=\"dataframe\">\n",
              "  <thead>\n",
              "    <tr style=\"text-align: right;\">\n",
              "      <th></th>\n",
              "      <th>USAF</th>\n",
              "      <th>WBAN</th>\n",
              "      <th>DIR</th>\n",
              "      <th>SPD</th>\n",
              "      <th>GUS</th>\n",
              "      <th>CLG</th>\n",
              "      <th>SKC</th>\n",
              "      <th>VSB</th>\n",
              "      <th>AW</th>\n",
              "      <th>TEMP</th>\n",
              "      <th>DEWP</th>\n",
              "      <th>ALT</th>\n",
              "    </tr>\n",
              "    <tr>\n",
              "      <th>datetime</th>\n",
              "      <th></th>\n",
              "      <th></th>\n",
              "      <th></th>\n",
              "      <th></th>\n",
              "      <th></th>\n",
              "      <th></th>\n",
              "      <th></th>\n",
              "      <th></th>\n",
              "      <th></th>\n",
              "      <th></th>\n",
              "      <th></th>\n",
              "      <th></th>\n",
              "    </tr>\n",
              "  </thead>\n",
              "  <tbody>\n",
              "    <tr>\n",
              "      <th>2016-04-01 00:15:00</th>\n",
              "      <td>720617</td>\n",
              "      <td>208</td>\n",
              "      <td>NaN</td>\n",
              "      <td>0</td>\n",
              "      <td>NaN</td>\n",
              "      <td>722</td>\n",
              "      <td>CLR</td>\n",
              "      <td>10.0</td>\n",
              "      <td>NaN</td>\n",
              "      <td>79</td>\n",
              "      <td>66</td>\n",
              "      <td>29.67</td>\n",
              "    </tr>\n",
              "    <tr>\n",
              "      <th>2016-04-01 00:35:00</th>\n",
              "      <td>720617</td>\n",
              "      <td>208</td>\n",
              "      <td>330</td>\n",
              "      <td>6</td>\n",
              "      <td>NaN</td>\n",
              "      <td>722</td>\n",
              "      <td>CLR</td>\n",
              "      <td>9.1</td>\n",
              "      <td>NaN</td>\n",
              "      <td>75</td>\n",
              "      <td>66</td>\n",
              "      <td>29.66</td>\n",
              "    </tr>\n",
              "    <tr>\n",
              "      <th>2016-04-01 00:55:00</th>\n",
              "      <td>720617</td>\n",
              "      <td>208</td>\n",
              "      <td>330</td>\n",
              "      <td>3</td>\n",
              "      <td>NaN</td>\n",
              "      <td>722</td>\n",
              "      <td>CLR</td>\n",
              "      <td>10.0</td>\n",
              "      <td>NaN</td>\n",
              "      <td>73</td>\n",
              "      <td>66</td>\n",
              "      <td>29.67</td>\n",
              "    </tr>\n",
              "    <tr>\n",
              "      <th>2016-04-01 01:15:00</th>\n",
              "      <td>720617</td>\n",
              "      <td>208</td>\n",
              "      <td>330</td>\n",
              "      <td>6</td>\n",
              "      <td>NaN</td>\n",
              "      <td>722</td>\n",
              "      <td>CLR</td>\n",
              "      <td>10.0</td>\n",
              "      <td>NaN</td>\n",
              "      <td>73</td>\n",
              "      <td>66</td>\n",
              "      <td>29.68</td>\n",
              "    </tr>\n",
              "    <tr>\n",
              "      <th>2016-04-01 01:35:00</th>\n",
              "      <td>720617</td>\n",
              "      <td>208</td>\n",
              "      <td>340</td>\n",
              "      <td>7</td>\n",
              "      <td>NaN</td>\n",
              "      <td>722</td>\n",
              "      <td>CLR</td>\n",
              "      <td>10.0</td>\n",
              "      <td>NaN</td>\n",
              "      <td>72</td>\n",
              "      <td>64</td>\n",
              "      <td>29.70</td>\n",
              "    </tr>\n",
              "  </tbody>\n",
              "</table>\n",
              "</div>"
            ],
            "text/plain": [
              "                       USAF  WBAN  DIR SPD  GUS  CLG  SKC   VSB   AW TEMP  \\\n",
              "datetime                                                                    \n",
              "2016-04-01 00:15:00  720617   208  NaN   0  NaN  722  CLR  10.0  NaN   79   \n",
              "2016-04-01 00:35:00  720617   208  330   6  NaN  722  CLR   9.1  NaN   75   \n",
              "2016-04-01 00:55:00  720617   208  330   3  NaN  722  CLR  10.0  NaN   73   \n",
              "2016-04-01 01:15:00  720617   208  330   6  NaN  722  CLR  10.0  NaN   73   \n",
              "2016-04-01 01:35:00  720617   208  340   7  NaN  722  CLR  10.0  NaN   72   \n",
              "\n",
              "                    DEWP    ALT  \n",
              "datetime                         \n",
              "2016-04-01 00:15:00   66  29.67  \n",
              "2016-04-01 00:35:00   66  29.66  \n",
              "2016-04-01 00:55:00   66  29.67  \n",
              "2016-04-01 01:15:00   66  29.68  \n",
              "2016-04-01 01:35:00   64  29.70  "
            ]
          },
          "metadata": {
            "tags": []
          },
          "execution_count": 8
        }
      ]
    },
    {
      "metadata": {
        "id": "lA_PaG8nrC9u",
        "colab_type": "text"
      },
      "cell_type": "markdown",
      "source": [
        "Let's look at subset of columns with physical units from HTML version of the table"
      ]
    },
    {
      "metadata": {
        "id": "rjgsvHCErC9w",
        "colab_type": "code",
        "colab": {
          "base_uri": "https://localhost:8080/",
          "height": 147
        },
        "outputId": "8d7685ca-1e1f-494e-95b6-28cb1ce6d6f7"
      },
      "cell_type": "code",
      "source": [
        "dfunits=dfheader[1][:2]\n",
        "dfunits"
      ],
      "execution_count": 9,
      "outputs": [
        {
          "output_type": "execute_result",
          "data": {
            "text/html": [
              "<div>\n",
              "<style scoped>\n",
              "    .dataframe tbody tr th:only-of-type {\n",
              "        vertical-align: middle;\n",
              "    }\n",
              "\n",
              "    .dataframe tbody tr th {\n",
              "        vertical-align: top;\n",
              "    }\n",
              "\n",
              "    .dataframe thead th {\n",
              "        text-align: right;\n",
              "    }\n",
              "</style>\n",
              "<table border=\"1\" class=\"dataframe\">\n",
              "  <thead>\n",
              "    <tr style=\"text-align: right;\">\n",
              "      <th></th>\n",
              "      <th>0</th>\n",
              "      <th>1</th>\n",
              "      <th>2</th>\n",
              "      <th>3</th>\n",
              "      <th>4</th>\n",
              "      <th>5</th>\n",
              "      <th>6</th>\n",
              "      <th>7</th>\n",
              "      <th>8</th>\n",
              "      <th>9</th>\n",
              "      <th>10</th>\n",
              "      <th>11</th>\n",
              "      <th>12</th>\n",
              "      <th>13</th>\n",
              "      <th>14</th>\n",
              "      <th>15</th>\n",
              "      <th>16</th>\n",
              "      <th>17</th>\n",
              "      <th>18</th>\n",
              "      <th>19</th>\n",
              "      <th>20</th>\n",
              "      <th>21</th>\n",
              "      <th>22</th>\n",
              "      <th>23</th>\n",
              "      <th>24</th>\n",
              "      <th>25</th>\n",
              "      <th>26</th>\n",
              "      <th>27</th>\n",
              "      <th>28</th>\n",
              "      <th>29</th>\n",
              "      <th>30</th>\n",
              "      <th>31</th>\n",
              "      <th>32</th>\n",
              "    </tr>\n",
              "  </thead>\n",
              "  <tbody>\n",
              "    <tr>\n",
              "      <th>0</th>\n",
              "      <td>USAF</td>\n",
              "      <td>WBAN</td>\n",
              "      <td>YR--MODAHRMN</td>\n",
              "      <td>DIR</td>\n",
              "      <td>SPD</td>\n",
              "      <td>GUS</td>\n",
              "      <td>CLG</td>\n",
              "      <td>SKC</td>\n",
              "      <td>L</td>\n",
              "      <td>M</td>\n",
              "      <td>H</td>\n",
              "      <td>VSB</td>\n",
              "      <td>MW</td>\n",
              "      <td>MW</td>\n",
              "      <td>MW</td>\n",
              "      <td>MW</td>\n",
              "      <td>AW</td>\n",
              "      <td>AW</td>\n",
              "      <td>AW</td>\n",
              "      <td>AW</td>\n",
              "      <td>W</td>\n",
              "      <td>TEMP</td>\n",
              "      <td>DEWP</td>\n",
              "      <td>SLP</td>\n",
              "      <td>ALT</td>\n",
              "      <td>STP</td>\n",
              "      <td>MAX</td>\n",
              "      <td>MIN</td>\n",
              "      <td>PCP01</td>\n",
              "      <td>PCP06</td>\n",
              "      <td>PCP24</td>\n",
              "      <td>PCPXX</td>\n",
              "      <td>SD</td>\n",
              "    </tr>\n",
              "    <tr>\n",
              "      <th>1</th>\n",
              "      <td>NaN</td>\n",
              "      <td>NaN</td>\n",
              "      <td>GMT</td>\n",
              "      <td>NaN</td>\n",
              "      <td>MPH</td>\n",
              "      <td>MPH</td>\n",
              "      <td>NaN</td>\n",
              "      <td>NaN</td>\n",
              "      <td>NaN</td>\n",
              "      <td>NaN</td>\n",
              "      <td>NaN</td>\n",
              "      <td>Miles</td>\n",
              "      <td>NaN</td>\n",
              "      <td>NaN</td>\n",
              "      <td>NaN</td>\n",
              "      <td>NaN</td>\n",
              "      <td>NaN</td>\n",
              "      <td>NaN</td>\n",
              "      <td>NaN</td>\n",
              "      <td>NaN</td>\n",
              "      <td>NaN</td>\n",
              "      <td>F</td>\n",
              "      <td>F</td>\n",
              "      <td>Mb</td>\n",
              "      <td>inches</td>\n",
              "      <td>Mb</td>\n",
              "      <td>F</td>\n",
              "      <td>F</td>\n",
              "      <td>inches</td>\n",
              "      <td>inches</td>\n",
              "      <td>inches</td>\n",
              "      <td>inches</td>\n",
              "      <td>inches</td>\n",
              "    </tr>\n",
              "  </tbody>\n",
              "</table>\n",
              "</div>"
            ],
            "text/plain": [
              "     0     1             2    3    4    5    6    7    8    9    10     11  \\\n",
              "0  USAF  WBAN  YR--MODAHRMN  DIR  SPD  GUS  CLG  SKC    L    M    H    VSB   \n",
              "1   NaN   NaN           GMT  NaN  MPH  MPH  NaN  NaN  NaN  NaN  NaN  Miles   \n",
              "\n",
              "    12   13   14   15   16   17   18   19   20    21    22   23      24   25  \\\n",
              "0   MW   MW   MW   MW   AW   AW   AW   AW    W  TEMP  DEWP  SLP     ALT  STP   \n",
              "1  NaN  NaN  NaN  NaN  NaN  NaN  NaN  NaN  NaN     F     F   Mb  inches   Mb   \n",
              "\n",
              "    26   27      28      29      30      31      32  \n",
              "0  MAX  MIN   PCP01   PCP06   PCP24   PCPXX      SD  \n",
              "1    F    F  inches  inches  inches  inches  inches  "
            ]
          },
          "metadata": {
            "tags": []
          },
          "execution_count": 9
        }
      ]
    },
    {
      "metadata": {
        "id": "bO1fAHcLrC92",
        "colab_type": "code",
        "colab": {
          "base_uri": "https://localhost:8080/",
          "height": 232
        },
        "outputId": "7dadd0c1-4c07-4f6f-8e33-0c7b5ba58216"
      },
      "cell_type": "code",
      "source": [
        "dfunits.rename(columns=dfunits.iloc[0]).iloc[1].loc[dfhtown.columns].dropna().to_frame()"
      ],
      "execution_count": 10,
      "outputs": [
        {
          "output_type": "execute_result",
          "data": {
            "text/html": [
              "<div>\n",
              "<style scoped>\n",
              "    .dataframe tbody tr th:only-of-type {\n",
              "        vertical-align: middle;\n",
              "    }\n",
              "\n",
              "    .dataframe tbody tr th {\n",
              "        vertical-align: top;\n",
              "    }\n",
              "\n",
              "    .dataframe thead th {\n",
              "        text-align: right;\n",
              "    }\n",
              "</style>\n",
              "<table border=\"1\" class=\"dataframe\">\n",
              "  <thead>\n",
              "    <tr style=\"text-align: right;\">\n",
              "      <th></th>\n",
              "      <th>1</th>\n",
              "    </tr>\n",
              "  </thead>\n",
              "  <tbody>\n",
              "    <tr>\n",
              "      <th>SPD</th>\n",
              "      <td>MPH</td>\n",
              "    </tr>\n",
              "    <tr>\n",
              "      <th>GUS</th>\n",
              "      <td>MPH</td>\n",
              "    </tr>\n",
              "    <tr>\n",
              "      <th>VSB</th>\n",
              "      <td>Miles</td>\n",
              "    </tr>\n",
              "    <tr>\n",
              "      <th>TEMP</th>\n",
              "      <td>F</td>\n",
              "    </tr>\n",
              "    <tr>\n",
              "      <th>DEWP</th>\n",
              "      <td>F</td>\n",
              "    </tr>\n",
              "    <tr>\n",
              "      <th>ALT</th>\n",
              "      <td>inches</td>\n",
              "    </tr>\n",
              "  </tbody>\n",
              "</table>\n",
              "</div>"
            ],
            "text/plain": [
              "           1\n",
              "SPD      MPH\n",
              "GUS      MPH\n",
              "VSB    Miles\n",
              "TEMP       F\n",
              "DEWP       F\n",
              "ALT   inches"
            ]
          },
          "metadata": {
            "tags": []
          },
          "execution_count": 10
        }
      ]
    },
    {
      "metadata": {
        "id": "ox7sRfjIrC97",
        "colab_type": "text"
      },
      "cell_type": "markdown",
      "source": [
        "* So SPD and GUS are some velocity measurements for wind\n",
        "* VSB??\n",
        "* TEMP - temperature\n",
        "* DEWP - temperature dewpoint (used for humidity)\n",
        "* ALT - perhaps the pressure in inches of liquid, such as mercury"
      ]
    },
    {
      "metadata": {
        "id": "tQC5QeafrC98",
        "colab_type": "text"
      },
      "cell_type": "markdown",
      "source": [
        "The types of columns are very generic (object), so let's improve this!"
      ]
    },
    {
      "metadata": {
        "id": "wwszOkDhrC9_",
        "colab_type": "code",
        "colab": {
          "base_uri": "https://localhost:8080/",
          "height": 242
        },
        "outputId": "3fbf0d55-177c-4528-fbe6-f550d6404a1f"
      },
      "cell_type": "code",
      "source": [
        "dfhtown.dtypes"
      ],
      "execution_count": 11,
      "outputs": [
        {
          "output_type": "execute_result",
          "data": {
            "text/plain": [
              "USAF     int64\n",
              "WBAN     int64\n",
              "DIR     object\n",
              "SPD     object\n",
              "GUS     object\n",
              "CLG     object\n",
              "SKC     object\n",
              "VSB     object\n",
              "AW      object\n",
              "TEMP    object\n",
              "DEWP    object\n",
              "ALT     object\n",
              "dtype: object"
            ]
          },
          "metadata": {
            "tags": []
          },
          "execution_count": 11
        }
      ]
    },
    {
      "metadata": {
        "id": "B1Mz005GrC-F",
        "colab_type": "code",
        "colab": {
          "base_uri": "https://localhost:8080/",
          "height": 267
        },
        "outputId": "bb54e5c2-525d-49e8-cbd1-b0b8d598d07e"
      },
      "cell_type": "code",
      "source": [
        "dfhtown = dfhtown[['DIR','SPD','VSB','TEMP','DEWP','ALT']].astype('float64',raise_on_error=False)\n",
        "dfhtown.head()"
      ],
      "execution_count": 12,
      "outputs": [
        {
          "output_type": "stream",
          "text": [
            "/usr/local/lib/python3.6/dist-packages/ipykernel_launcher.py:1: FutureWarning: the raise_on_error=False keyword is deprecated, use errors='ignore' instead\n",
            "  \"\"\"Entry point for launching an IPython kernel.\n"
          ],
          "name": "stderr"
        },
        {
          "output_type": "execute_result",
          "data": {
            "text/html": [
              "<div>\n",
              "<style scoped>\n",
              "    .dataframe tbody tr th:only-of-type {\n",
              "        vertical-align: middle;\n",
              "    }\n",
              "\n",
              "    .dataframe tbody tr th {\n",
              "        vertical-align: top;\n",
              "    }\n",
              "\n",
              "    .dataframe thead th {\n",
              "        text-align: right;\n",
              "    }\n",
              "</style>\n",
              "<table border=\"1\" class=\"dataframe\">\n",
              "  <thead>\n",
              "    <tr style=\"text-align: right;\">\n",
              "      <th></th>\n",
              "      <th>DIR</th>\n",
              "      <th>SPD</th>\n",
              "      <th>VSB</th>\n",
              "      <th>TEMP</th>\n",
              "      <th>DEWP</th>\n",
              "      <th>ALT</th>\n",
              "    </tr>\n",
              "    <tr>\n",
              "      <th>datetime</th>\n",
              "      <th></th>\n",
              "      <th></th>\n",
              "      <th></th>\n",
              "      <th></th>\n",
              "      <th></th>\n",
              "      <th></th>\n",
              "    </tr>\n",
              "  </thead>\n",
              "  <tbody>\n",
              "    <tr>\n",
              "      <th>2016-04-01 00:15:00</th>\n",
              "      <td>NaN</td>\n",
              "      <td>0.0</td>\n",
              "      <td>10.0</td>\n",
              "      <td>79.0</td>\n",
              "      <td>66.0</td>\n",
              "      <td>29.67</td>\n",
              "    </tr>\n",
              "    <tr>\n",
              "      <th>2016-04-01 00:35:00</th>\n",
              "      <td>330.0</td>\n",
              "      <td>6.0</td>\n",
              "      <td>9.1</td>\n",
              "      <td>75.0</td>\n",
              "      <td>66.0</td>\n",
              "      <td>29.66</td>\n",
              "    </tr>\n",
              "    <tr>\n",
              "      <th>2016-04-01 00:55:00</th>\n",
              "      <td>330.0</td>\n",
              "      <td>3.0</td>\n",
              "      <td>10.0</td>\n",
              "      <td>73.0</td>\n",
              "      <td>66.0</td>\n",
              "      <td>29.67</td>\n",
              "    </tr>\n",
              "    <tr>\n",
              "      <th>2016-04-01 01:15:00</th>\n",
              "      <td>330.0</td>\n",
              "      <td>6.0</td>\n",
              "      <td>10.0</td>\n",
              "      <td>73.0</td>\n",
              "      <td>66.0</td>\n",
              "      <td>29.68</td>\n",
              "    </tr>\n",
              "    <tr>\n",
              "      <th>2016-04-01 01:35:00</th>\n",
              "      <td>340.0</td>\n",
              "      <td>7.0</td>\n",
              "      <td>10.0</td>\n",
              "      <td>72.0</td>\n",
              "      <td>64.0</td>\n",
              "      <td>29.70</td>\n",
              "    </tr>\n",
              "  </tbody>\n",
              "</table>\n",
              "</div>"
            ],
            "text/plain": [
              "                       DIR  SPD   VSB  TEMP  DEWP    ALT\n",
              "datetime                                                \n",
              "2016-04-01 00:15:00    NaN  0.0  10.0  79.0  66.0  29.67\n",
              "2016-04-01 00:35:00  330.0  6.0   9.1  75.0  66.0  29.66\n",
              "2016-04-01 00:55:00  330.0  3.0  10.0  73.0  66.0  29.67\n",
              "2016-04-01 01:15:00  330.0  6.0  10.0  73.0  66.0  29.68\n",
              "2016-04-01 01:35:00  340.0  7.0  10.0  72.0  64.0  29.70"
            ]
          },
          "metadata": {
            "tags": []
          },
          "execution_count": 12
        }
      ]
    },
    {
      "metadata": {
        "id": "JVrehrIjrC-M",
        "colab_type": "code",
        "colab": {
          "base_uri": "https://localhost:8080/",
          "height": 138
        },
        "outputId": "9715d965-1c11-4ba9-bafd-67cffd1c6690"
      },
      "cell_type": "code",
      "source": [
        "dfhtown.dtypes"
      ],
      "execution_count": 13,
      "outputs": [
        {
          "output_type": "execute_result",
          "data": {
            "text/plain": [
              "DIR     float64\n",
              "SPD     float64\n",
              "VSB     float64\n",
              "TEMP    float64\n",
              "DEWP    float64\n",
              "ALT     float64\n",
              "dtype: object"
            ]
          },
          "metadata": {
            "tags": []
          },
          "execution_count": 13
        }
      ]
    },
    {
      "metadata": {
        "id": "QCfK7om9rC-T",
        "colab_type": "text"
      },
      "cell_type": "markdown",
      "source": [
        "The relative humidity (RH) is not given in table, so let's calculate using measured temperature and dewpoint temperature"
      ]
    },
    {
      "metadata": {
        "id": "Er-whQnPrC-T",
        "colab_type": "code",
        "colab": {}
      },
      "cell_type": "code",
      "source": [
        "rel_hum_eqn = \"100*(exp((17.625*TD)/(243.04+TD))/exp((17.625*T)/(243.04+T)))\"\n"
      ],
      "execution_count": 0,
      "outputs": []
    },
    {
      "metadata": {
        "id": "UF_1tquWrC-Y",
        "colab_type": "code",
        "colab": {
          "base_uri": "https://localhost:8080/",
          "height": 576
        },
        "outputId": "c716d297-de5e-49e2-e7d1-05536856bf9c"
      },
      "cell_type": "code",
      "source": [
        "dfhtown['T']=(dfhtown['TEMP']-32)/1.8\n",
        "dfhtown['TD']=(dfhtown['DEWP']-32)/1.8\n",
        "dfhtown['RH']=dfhtown.eval(rel_hum_eqn)\n",
        "dfhtown[['RH']].rolling(window=24*7).mean().plot(style='.');\n",
        "plt.ylabel('Relative Humidity [%]');"
      ],
      "execution_count": 15,
      "outputs": [
        {
          "output_type": "display_data",
          "data": {
            "image/png": "[encoded data removed]",
            "text/plain": [
              "<matplotlib.figure.Figure at 0x7f6e1b1b9d68>"
            ]
          },
          "metadata": {
            "tags": []
          }
        }
      ]
    },
    {
      "metadata": {
        "id": "G7ROJga4rC-e",
        "colab_type": "code",
        "colab": {
          "base_uri": "https://localhost:8080/",
          "height": 294
        },
        "outputId": "45132bf3-c99c-440f-8a8c-ec8574d04cb0"
      },
      "cell_type": "code",
      "source": [
        "dfhtown.describe()"
      ],
      "execution_count": 16,
      "outputs": [
        {
          "output_type": "execute_result",
          "data": {
            "text/html": [
              "<div>\n",
              "<style scoped>\n",
              "    .dataframe tbody tr th:only-of-type {\n",
              "        vertical-align: middle;\n",
              "    }\n",
              "\n",
              "    .dataframe tbody tr th {\n",
              "        vertical-align: top;\n",
              "    }\n",
              "\n",
              "    .dataframe thead th {\n",
              "        text-align: right;\n",
              "    }\n",
              "</style>\n",
              "<table border=\"1\" class=\"dataframe\">\n",
              "  <thead>\n",
              "    <tr style=\"text-align: right;\">\n",
              "      <th></th>\n",
              "      <th>DIR</th>\n",
              "      <th>SPD</th>\n",
              "      <th>VSB</th>\n",
              "      <th>TEMP</th>\n",
              "      <th>DEWP</th>\n",
              "      <th>ALT</th>\n",
              "      <th>T</th>\n",
              "      <th>TD</th>\n",
              "      <th>RH</th>\n",
              "    </tr>\n",
              "  </thead>\n",
              "  <tbody>\n",
              "    <tr>\n",
              "      <th>count</th>\n",
              "      <td>20087.000000</td>\n",
              "      <td>25833.000000</td>\n",
              "      <td>23997.000000</td>\n",
              "      <td>25844.000000</td>\n",
              "      <td>25844.000000</td>\n",
              "      <td>25853.000000</td>\n",
              "      <td>25844.000000</td>\n",
              "      <td>25844.000000</td>\n",
              "      <td>25844.000000</td>\n",
              "    </tr>\n",
              "    <tr>\n",
              "      <th>mean</th>\n",
              "      <td>168.682232</td>\n",
              "      <td>6.866527</td>\n",
              "      <td>8.109147</td>\n",
              "      <td>71.196835</td>\n",
              "      <td>63.041751</td>\n",
              "      <td>30.041237</td>\n",
              "      <td>21.776019</td>\n",
              "      <td>17.245417</td>\n",
              "      <td>78.277455</td>\n",
              "    </tr>\n",
              "    <tr>\n",
              "      <th>std</th>\n",
              "      <td>108.760045</td>\n",
              "      <td>5.283873</td>\n",
              "      <td>2.605837</td>\n",
              "      <td>12.736647</td>\n",
              "      <td>13.240728</td>\n",
              "      <td>0.162329</td>\n",
              "      <td>7.075915</td>\n",
              "      <td>7.355960</td>\n",
              "      <td>19.340430</td>\n",
              "    </tr>\n",
              "    <tr>\n",
              "      <th>min</th>\n",
              "      <td>10.000000</td>\n",
              "      <td>0.000000</td>\n",
              "      <td>0.000000</td>\n",
              "      <td>19.000000</td>\n",
              "      <td>10.000000</td>\n",
              "      <td>29.450000</td>\n",
              "      <td>-7.222222</td>\n",
              "      <td>-12.222222</td>\n",
              "      <td>17.552120</td>\n",
              "    </tr>\n",
              "    <tr>\n",
              "      <th>25%</th>\n",
              "      <td>110.000000</td>\n",
              "      <td>3.000000</td>\n",
              "      <td>7.000000</td>\n",
              "      <td>64.000000</td>\n",
              "      <td>57.000000</td>\n",
              "      <td>29.950000</td>\n",
              "      <td>17.777778</td>\n",
              "      <td>13.888889</td>\n",
              "      <td>64.138382</td>\n",
              "    </tr>\n",
              "    <tr>\n",
              "      <th>50%</th>\n",
              "      <td>170.000000</td>\n",
              "      <td>7.000000</td>\n",
              "      <td>9.100000</td>\n",
              "      <td>73.000000</td>\n",
              "      <td>66.000000</td>\n",
              "      <td>30.020000</td>\n",
              "      <td>22.777778</td>\n",
              "      <td>18.888889</td>\n",
              "      <td>83.472995</td>\n",
              "    </tr>\n",
              "    <tr>\n",
              "      <th>75%</th>\n",
              "      <td>200.000000</td>\n",
              "      <td>10.000000</td>\n",
              "      <td>10.000000</td>\n",
              "      <td>81.000000</td>\n",
              "      <td>73.000000</td>\n",
              "      <td>30.130000</td>\n",
              "      <td>27.222222</td>\n",
              "      <td>22.777778</td>\n",
              "      <td>93.564177</td>\n",
              "    </tr>\n",
              "    <tr>\n",
              "      <th>max</th>\n",
              "      <td>990.000000</td>\n",
              "      <td>36.000000</td>\n",
              "      <td>10.000000</td>\n",
              "      <td>99.000000</td>\n",
              "      <td>81.000000</td>\n",
              "      <td>30.790000</td>\n",
              "      <td>37.222222</td>\n",
              "      <td>27.222222</td>\n",
              "      <td>100.000000</td>\n",
              "    </tr>\n",
              "  </tbody>\n",
              "</table>\n",
              "</div>"
            ],
            "text/plain": [
              "                DIR           SPD           VSB          TEMP          DEWP  \\\n",
              "count  20087.000000  25833.000000  23997.000000  25844.000000  25844.000000   \n",
              "mean     168.682232      6.866527      8.109147     71.196835     63.041751   \n",
              "std      108.760045      5.283873      2.605837     12.736647     13.240728   \n",
              "min       10.000000      0.000000      0.000000     19.000000     10.000000   \n",
              "25%      110.000000      3.000000      7.000000     64.000000     57.000000   \n",
              "50%      170.000000      7.000000      9.100000     73.000000     66.000000   \n",
              "75%      200.000000     10.000000     10.000000     81.000000     73.000000   \n",
              "max      990.000000     36.000000     10.000000     99.000000     81.000000   \n",
              "\n",
              "                ALT             T            TD            RH  \n",
              "count  25853.000000  25844.000000  25844.000000  25844.000000  \n",
              "mean      30.041237     21.776019     17.245417     78.277455  \n",
              "std        0.162329      7.075915      7.355960     19.340430  \n",
              "min       29.450000     -7.222222    -12.222222     17.552120  \n",
              "25%       29.950000     17.777778     13.888889     64.138382  \n",
              "50%       30.020000     22.777778     18.888889     83.472995  \n",
              "75%       30.130000     27.222222     22.777778     93.564177  \n",
              "max       30.790000     37.222222     27.222222    100.000000  "
            ]
          },
          "metadata": {
            "tags": []
          },
          "execution_count": 16
        }
      ]
    },
    {
      "metadata": {
        "id": "fv46Co1JrC-i",
        "colab_type": "code",
        "colab": {
          "base_uri": "https://localhost:8080/",
          "height": 580
        },
        "outputId": "391dee63-5c6c-4aea-e83e-d8dd04176a6d"
      },
      "cell_type": "code",
      "source": [
        "dfhtown.rolling(window=72).mean()[['TEMP']].plot();"
      ],
      "execution_count": 17,
      "outputs": [
        {
          "output_type": "display_data",
          "data": {
            "image/png": "[encoded data removed]",
            "text/plain": [
              "<matplotlib.figure.Figure at 0x7f6e14957940>"
            ]
          },
          "metadata": {
            "tags": []
          }
        }
      ]
    },
    {
      "metadata": {
        "id": "pSHfNi2TrDAi",
        "colab_type": "text"
      },
      "cell_type": "markdown",
      "source": [
        "\n",
        "The vapor pressure answers will be in units of millibars (mb) or hectoPascals (hPa).\n",
        "To convert the saturated vapor pressure and/or the actual vapor pressure, the\n",
        "temperature values must be converted to degrees Celsius (°C) ."
      ]
    },
    {
      "metadata": {
        "id": "KYxZ5bYurDAj",
        "colab_type": "code",
        "colab": {}
      },
      "cell_type": "code",
      "source": [
        "vp='6.11*(10**((7.5*{T})/(237.3+{T})))'\n",
        "dfhtown['e']=0.1*dfhtown.eval(vp.format(T='TD')) #converted from hPa to kPa\n",
        "dfhtown['es']=0.1*dfhtown.eval(vp.format(T='T')) #converted from hPa to kPa"
      ],
      "execution_count": 0,
      "outputs": []
    },
    {
      "metadata": {
        "id": "leCiV7pdrDAp",
        "colab_type": "text"
      },
      "cell_type": "markdown",
      "source": [
        "Let's verify calculation"
      ]
    },
    {
      "metadata": {
        "id": "hrA_wSgQrDAq",
        "colab_type": "code",
        "colab": {
          "base_uri": "https://localhost:8080/",
          "height": 610
        },
        "outputId": "78440602-f1c7-4b3b-9952-3f48115ab139"
      },
      "cell_type": "code",
      "source": [
        "ax1=dfhtown[['RH']].rolling(window=24*7).mean().plot(style='.')\n",
        "(dfhtown.e/dfhtown.es*100.).rolling(window=24*7*2).mean().plot(style='.',ax=ax1)\n",
        "plt.ylabel('Relative Humidity')\n",
        "plt.title('Comparison of calculated humidity with various methods');"
      ],
      "execution_count": 19,
      "outputs": [
        {
          "output_type": "display_data",
          "data": {
            "image/png": "[encoded data removed]",
            "text/plain": [
              "<matplotlib.figure.Figure at 0x7f6e10dfa2e8>"
            ]
          },
          "metadata": {
            "tags": []
          }
        }
      ]
    },
    {
      "metadata": {
        "id": "GmN-JjJerDAy",
        "colab_type": "text"
      },
      "cell_type": "markdown",
      "source": [
        "Back to apparent temperature (AT)!"
      ]
    },
    {
      "metadata": {
        "id": "iFIPSyadrDAy",
        "colab_type": "code",
        "colab": {}
      },
      "cell_type": "code",
      "source": [
        "AT = \"-2.7 + 1.04*T + 2.0*e -0.65*v\""
      ],
      "execution_count": 0,
      "outputs": []
    },
    {
      "metadata": {
        "id": "2g_g2j1_rDA1",
        "colab_type": "code",
        "colab": {}
      },
      "cell_type": "code",
      "source": [
        "dfhtown['v']=dfhtown.SPD*0.44704 #MPH to m/s"
      ],
      "execution_count": 0,
      "outputs": []
    },
    {
      "metadata": {
        "id": "tLqV7GWdrDA5",
        "colab_type": "code",
        "colab": {}
      },
      "cell_type": "code",
      "source": [
        "dfhtown['AT']=dfhtown.eval(AT)"
      ],
      "execution_count": 0,
      "outputs": []
    },
    {
      "metadata": {
        "id": "YfnEmu04rDBB",
        "colab_type": "code",
        "colab": {
          "base_uri": "https://localhost:8080/",
          "height": 628
        },
        "outputId": "bee56ef4-f245-4443-f8ce-6c426aa4ccac"
      },
      "cell_type": "code",
      "source": [
        "plt.figure()\n",
        "dfhtown.eval('AT-T').rolling(window=7*24).mean().plot()\n",
        "plt.title('Different between apparent temperature and measured temperature')\n",
        "plt.ylabel('Delta T [deg. C]')"
      ],
      "execution_count": 23,
      "outputs": [
        {
          "output_type": "execute_result",
          "data": {
            "text/plain": [
              "Text(0,0.5,'Delta T [deg. C]')"
            ]
          },
          "metadata": {
            "tags": []
          },
          "execution_count": 23
        },
        {
          "output_type": "display_data",
          "data": {
            "image/png": "[encoded data removed]",
            "text/plain": [
              "<matplotlib.figure.Figure at 0x7f6e10c7b2b0>"
            ]
          },
          "metadata": {
            "tags": []
          }
        }
      ]
    },
    {
      "metadata": {
        "id": "2JX8Wpi6rDBG",
        "colab_type": "text"
      },
      "cell_type": "markdown",
      "source": [
        "Comfortable apparent temperature **22-27** deg. C\n",
        "\n",
        "https://en.wikipedia.org/wiki/Thermal_comfort"
      ]
    },
    {
      "metadata": {
        "id": "g8mr3xBMrDBH",
        "colab_type": "code",
        "colab": {}
      },
      "cell_type": "code",
      "source": [
        "ixat = (dfhtown.AT>22) & (dfhtown.AT<27)"
      ],
      "execution_count": 0,
      "outputs": []
    },
    {
      "metadata": {
        "id": "FMtCNNM9rDBL",
        "colab_type": "text"
      },
      "cell_type": "markdown",
      "source": [
        "Comfortable hours to spend time outdoors are between 7am and 8pm"
      ]
    },
    {
      "metadata": {
        "id": "DzUmdXx4rDBO",
        "colab_type": "code",
        "colab": {}
      },
      "cell_type": "code",
      "source": [
        "dfhtown['hour']=dfhtown.index.map(lambda x: x.hour)\n",
        "ixhr = (dfhtown.AT>7) & (dfhtown.hour<20)"
      ],
      "execution_count": 0,
      "outputs": []
    },
    {
      "metadata": {
        "id": "9CtbLkafrDBR",
        "colab_type": "text"
      },
      "cell_type": "markdown",
      "source": [
        "When humidity is above 95% - very high chances of rain! So not good for outdoors..."
      ]
    },
    {
      "metadata": {
        "id": "XACuMuM8rDBS",
        "colab_type": "code",
        "colab": {}
      },
      "cell_type": "code",
      "source": [
        "ixrh = dfhtown.RH<95"
      ],
      "execution_count": 0,
      "outputs": []
    },
    {
      "metadata": {
        "id": "TEtrUOf-rDBV",
        "colab_type": "code",
        "colab": {
          "base_uri": "https://localhost:8080/",
          "height": 260
        },
        "outputId": "0db51eb0-a290-41cb-cdd9-bf1f45dba2e1"
      },
      "cell_type": "code",
      "source": [
        "dfhtown[ixat & ixhr & ixrh].resample(\"H\").sum().resample('M').AT.count()[:-1]\n",
        "#.plot()\n",
        "#plt.ylabel('Total hours comfortable outdoors in a month');"
      ],
      "execution_count": 27,
      "outputs": [
        {
          "output_type": "execute_result",
          "data": {
            "text/plain": [
              "datetime\n",
              "2016-04-30    720\n",
              "2016-05-31    744\n",
              "2016-06-30    720\n",
              "2016-07-31    744\n",
              "2016-08-31    744\n",
              "2016-09-30    720\n",
              "2016-10-31    744\n",
              "2016-11-30    720\n",
              "2016-12-31    744\n",
              "2017-01-31    744\n",
              "2017-02-28    672\n",
              "2017-03-31    744\n",
              "Freq: M, Name: AT, dtype: int64"
            ]
          },
          "metadata": {
            "tags": []
          },
          "execution_count": 27
        }
      ]
    },
    {
      "metadata": {
        "id": "r2N5W5KQ7-zc",
        "colab_type": "text"
      },
      "cell_type": "markdown",
      "source": [
        "Preparing the data\n",
        "\n",
        "The exact formulation of our problem will be the following: given data going as far back as lookback timesteps (a timestep is 10 minutes) and sampled every steps timesteps, can we predict the temperature in delay timesteps?\n",
        "\n",
        "We will use the following parameter values:\n",
        "\n",
        "lookback = 720, i.e. our observations will go back 5 days.\n",
        "steps = 6, i.e. our observations will be sampled at one data point per hour.\n",
        "delay = 144, i.e. our targets will be 24 hours in the future.\n",
        "To get started, we need to do two things:\n",
        "\n",
        "Preprocess the data to a format a neural network can ingest. \n",
        "This is easy: the data is already numerical, so we don't need to do any vectorization. \n",
        "However each timeseries in the data is on a different scale (e.g. temperature is typically between -20 and +30, but pressure, measured in mbar, is around 1000). \n",
        "So we will normalize each timeseries independently so that they all take small values on a similar scale.\n",
        "Write a Python generator that takes our current array of float data and yields batches of data from the recent past, alongside with a target temperature in the future. Since the samples in our dataset are highly redundant (e.g. sample N and sample N + 1 will have most of their timesteps in common), it would be very wasteful to explicitly allocate every sample. Instead, we will generate the samples on the fly using the original data.\n",
        "We preprocess the data by subtracting the mean of each timeseries and dividing by the standard deviation. We plan on using the first 200,000 timesteps as training data, so we compute the mean and standard deviation only on this fraction of the data:"
      ]
    },
    {
      "metadata": {
        "id": "q5Dpqcb_8JY1",
        "colab_type": "code",
        "colab": {}
      },
      "cell_type": "code",
      "source": [
        ""
      ],
      "execution_count": 0,
      "outputs": []
    }
  ]
}